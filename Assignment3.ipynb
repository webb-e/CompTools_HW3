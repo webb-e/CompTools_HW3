{
 "cells": [
  {
   "cell_type": "markdown",
   "metadata": {},
   "source": [
    "Problem 1 (5 pts):\n",
    "\n",
    "Write a script (or Jupyter Notebook code block) that opens the file, uses a for loop to read through the file line by line and reports the highest water level and the date and time that was observed.\n"
   ]
  },
  {
   "cell_type": "code",
   "execution_count": 1,
   "metadata": {},
   "outputs": [
    {
     "name": "stdout",
     "output_type": "stream",
     "text": [
      "The maximum height of 6.647 was recorded on 2018-10-10 at 18:06\n"
     ]
    }
   ],
   "source": [
    "#open file\n",
    "fhand = open('/blue/bsc4452/share/Class_Files/data/CO-OPS__8729108__wl.csv')\n",
    "#skip first line, which is the header\n",
    "noheader = fhand.readlines()[1:]\n",
    "\n",
    "maxlvl = 0\n",
    "for line in noheader:\n",
    "    try:\n",
    "        wtrlvl = line.split(\",\")[1] # access the second column\n",
    "        wtrlvl = float(wtrlvl) # make sure value is a float\n",
    "        if wtrlvl > maxlvl: # if this line's waterlevel is greater than the previous max water level,\n",
    "            maxlvl = wtrlvl # update the value of the max waterlevel\n",
    "            maxline = line.split(\",\")[0:2] # find the line that contains the max water level\n",
    "    except:\n",
    "        pass # except/pass means the program ignores cases where the above code fails (i.e. the one line with a blank cell for water level!)\n",
    "    \n",
    "date = maxline[0].split(',', 2 )[0].split(' ', 2)[0] #extract the date of the max water level\n",
    "time = maxline[0].split(',', 2 )[0].split(' ', 2)[1] # extract the time of the max water level\n",
    "maximum = maxline[1] #extract the value of the max water level\n",
    "\n",
    "print(f\"The maximum height of {maximum} was recorded on {date} at {time}\")\n"
   ]
  },
  {
   "cell_type": "markdown",
   "metadata": {},
   "source": [
    "Problem 2 (5 pts):\n",
    "\n",
    "Either in a new script or modifying the above script, calculate the lowest, highest and average water level observed during the time period. As above, print the date and time for the lowest and highest readings. \n"
   ]
  },
  {
   "cell_type": "code",
   "execution_count": 2,
   "metadata": {},
   "outputs": [
    {
     "name": "stdout",
     "output_type": "stream",
     "text": [
      "The maximum height of 6.647 was recorded on 2018-10-10 at 18:06\n",
      "The minimum height of 1.621 was recorded on 2018-10-11 at 15:36\n",
      "The average height observed over the time period was 2.98 \n"
     ]
    }
   ],
   "source": [
    "fhand = open('/blue/bsc4452/share/Class_Files/data/CO-OPS__8729108__wl.csv')\n",
    "noheader = fhand.readlines()[1:]\n",
    "maxlvl = 0 #set the starting max level at a number so low, any observed value will be higher than it\n",
    "minlvl = 100 #set the starting minimum level at a number so high, any observed value will be lower than it\n",
    "summ=0 # at the outset, the sum is zero\n",
    "count = 0 #at the outset, the count is zero\n",
    "for line in noheader:\n",
    "    try:\n",
    "        wtrlvl = line.split(\",\")[1]\n",
    "        wtrlvl = float(wtrlvl)\n",
    "        if minlvl > wtrlvl: # if the current water level is less than the previous minimum\n",
    "            minlvl = wtrlvl # set this as the new minimum\n",
    "            minline = line.split(\",\")[0:2] #and record the line \n",
    "        if wtrlvl > maxlvl:\n",
    "            maxlvl = wtrlvl\n",
    "            maxline = line.split(\",\")[0:2]\n",
    "        count = count +1    # count the number of lines (to be used to calculate average below)\n",
    "        summ = wtrlvl + summ  #sum the water level values (to be used to calculate average below)\n",
    "    except:\n",
    "        pass\n",
    "date_max = maxline[0].split(',', 2 )[0].split(' ', 2)[0]\n",
    "time_max = maxline[0].split(',', 2 )[0].split(' ', 2)[1]\n",
    "maximum = maxline[1]\n",
    "\n",
    "date_min = minline[0].split(',', 2 )[0].split(' ', 2)[0]\n",
    "time_min = minline[0].split(',', 2 )[0].split(' ', 2)[1]\n",
    "minimum = minline[1]\n",
    "average = round(summ/count,2) #take the average using the values calculated above and round to 2 decimal places\n",
    "\n",
    "print(f\"The maximum height of {maximum} was recorded on {date_max} at {time_max}\")\n",
    "print(f\"The minimum height of {minimum} was recorded on {date_min} at {time_min}\")\n",
    "print(f\"The average height observed over the time period was {average} \")\n"
   ]
  },
  {
   "cell_type": "markdown",
   "metadata": {},
   "source": [
    "Problem 3 (5 pts):\n",
    "\n",
    "Write a script (or Jupyter Notebook) that calculates the fastest rise in water level per 6-minute period between measurements (for this assignment, assume that each line of the dataset is a 6-minute interval) and reports the date and time that was observed and the change in water level from the previous recording.\n"
   ]
  },
  {
   "cell_type": "code",
   "execution_count": 3,
   "metadata": {},
   "outputs": [
    {
     "name": "stdout",
     "output_type": "stream",
     "text": [
      "The fastest rise in water level was 0.64 on 2018-10-10 at 15:36\n"
     ]
    }
   ],
   "source": [
    "fhand = open('/blue/bsc4452/share/Class_Files/data/CO-OPS__8729108__wl.csv')\n",
    "noheader = fhand.readlines()[1:]\n",
    "\n",
    "previouslevel=float(noheader[0].split(\",\")[1]) #this is the first water level recording - set the first \"previous water level\"\n",
    "largestrise = 0 # initially, the largest rise from one time period to the next is zero\n",
    "for line in noheader:\n",
    "    try:\n",
    "        wtrlvl = float(line.split(\",\")[1])\n",
    "        thisrise = wtrlvl - previouslevel # water level rise from the previous line to this one - note this will be zero for the first reading\n",
    "        previouslevel = wtrlvl # assign new value of \"previous water level\" for next iteration\n",
    "        if thisrise > largestrise: # if this water level rise is bigger than the previously recorded biggest rise,\n",
    "            largestrise = thisrise # over-write the previous largest rise with this bigger rise\n",
    "            riseline = line.split(\",\")[0:2] #and get the line associated with this rise\n",
    "    except:\n",
    "        pass\n",
    "    \n",
    "date_rise = riseline[0].split(',', 2 )[0].split(' ', 2)[0]\n",
    "time_rise = minline[0].split(',', 2 )[0].split(' ', 2)[1]\n",
    "rise = round(largestrise,2)\n",
    "\n",
    "print(f\"The fastest rise in water level was {rise} on {date_rise} at {time_rise}\")"
   ]
  },
  {
   "cell_type": "markdown",
   "metadata": {},
   "source": [
    "Problem 4 (5 pts):\n",
    "\n",
    "Imagine that the file is providing live readings of the water level. Write a script (or Jupyter Notebook) to print a line of text with a warning if any of these events occur:\n",
    "\n",
    "    The water level increases more than 0.25 since the previous recording.\n",
    "    The water level is over 5.0.\n",
    "    No reading is received at a time point.\n",
    "\n"
   ]
  },
  {
   "cell_type": "code",
   "execution_count": 4,
   "metadata": {},
   "outputs": [
    {
     "name": "stdout",
     "output_type": "stream",
     "text": [
      "The water level has increased more than 0.25 since the last recording\n",
      "The water level has increased more than 0.25 since the last recording\n",
      "The water level has increased more than 0.25 since the last recording\n",
      "The water level is over 5.0\n",
      "The water level has increased more than 0.25 since the last recording\n",
      "The water level is over 5.0\n",
      "The water level has increased more than 0.25 since the last recording\n",
      "The water level is over 5.0\n",
      "The water level is over 5.0\n",
      "The water level is over 5.0\n",
      "The water level is over 5.0\n",
      "No reading was received\n",
      "The water level is over 5.0\n",
      "The water level is over 5.0\n",
      "The water level is over 5.0\n",
      "The water level is over 5.0\n",
      "The water level is over 5.0\n",
      "The water level is over 5.0\n",
      "The water level is over 5.0\n"
     ]
    }
   ],
   "source": [
    "fhand = open('/blue/bsc4452/share/Class_Files/data/CO-OPS__8729108__wl.csv')\n",
    "noheader = fhand.readlines()[1:]\n",
    "\n",
    "previouslevel=float(noheader[0].split(\",\")[1])\n",
    "largestrise = 0\n",
    "for line in noheader:\n",
    "    try:\n",
    "        wtrlvl = float(line.split(\",\")[1])\n",
    "        thisrise = wtrlvl - previouslevel\n",
    "        previouslevel = wtrlvl\n",
    "        if thisrise > 0.25: #if the rise is bigger than 0.25\n",
    "            print(\"The water level has increased more than 0.25 since the last recording\")\n",
    "        if wtrlvl > 5.0: # if the water level is greater than 5\n",
    "            print(\"The water level is over 5.0\")\n",
    "    except: #if the above code won't run because there is not float value in the column\n",
    "        print(\"No reading was received\")"
   ]
  },
  {
   "cell_type": "code",
   "execution_count": null,
   "metadata": {},
   "outputs": [],
   "source": []
  }
 ],
 "metadata": {
  "kernelspec": {
   "display_name": "Python 3.8 (full)",
   "language": "python",
   "name": "python3-3.8-ufrc"
  },
  "language_info": {
   "codemirror_mode": {
    "name": "ipython",
    "version": 3
   },
   "file_extension": ".py",
   "mimetype": "text/x-python",
   "name": "python",
   "nbconvert_exporter": "python",
   "pygments_lexer": "ipython3",
   "version": "3.8.5"
  }
 },
 "nbformat": 4,
 "nbformat_minor": 4
}
